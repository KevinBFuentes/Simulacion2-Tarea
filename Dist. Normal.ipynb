{
 "cells": [
  {
   "cell_type": "code",
   "execution_count": 7,
   "metadata": {},
   "outputs": [
    {
     "name": "stdout",
     "output_type": "stream",
     "text": [
      "[167.2402492663399, 37.42199339433223, 113.52970767286337, 66.55421953230385, 55.2709946847564, 86.65950925753249, 66.59954215839585, 1.2543849056824854, 72.97073741552143, 20.079819056454397]\n"
     ]
    },
    {
     "data": {
      "image/png": "[encoded data removed]",
      "text/plain": [
       "<Figure size 432x288 with 1 Axes>"
      ]
     },
     "metadata": {
      "needs_background": "light"
     },
     "output_type": "display_data"
    }
   ],
   "source": [
    "from random import random,sample\n",
    "import matplotlib.pyplot as plt\n",
    "\n",
    "def norml(mu,s):\n",
    "    suma=0\n",
    "    l=[]\n",
    "    for i in range(12):\n",
    "        suma=suma+random()\n",
    "        x=mu + s * (suma - 6)\n",
    "    return x \n",
    "\n",
    "l1=[]\n",
    "for i in range(1000):\n",
    "    l1.append(norml(100,50))\n",
    "    \n",
    "print(sample(l1,10)) #Muestra de 10 de los numeros generados \n",
    "\n",
    "plt.hist(l1, edgecolor='grey',bins=10)\n",
    "plt.title('Distribución Normal')\n",
    "plt.show()"
   ]
  },
  {
   "cell_type": "code",
   "execution_count": null,
   "metadata": {},
   "outputs": [],
   "source": []
  }
 ],
 "metadata": {
  "kernelspec": {
   "display_name": "Python 3",
   "language": "python",
   "name": "python3"
  },
  "language_info": {
   "codemirror_mode": {
    "name": "ipython",
    "version": 3
   },
   "file_extension": ".py",
   "mimetype": "text/x-python",
   "name": "python",
   "nbconvert_exporter": "python",
   "pygments_lexer": "ipython3",
   "version": "3.9.2"
  }
 },
 "nbformat": 4,
 "nbformat_minor": 4
}
