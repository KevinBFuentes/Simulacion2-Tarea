{
 "cells": [
  {
   "cell_type": "code",
   "execution_count": 7,
   "metadata": {},
   "outputs": [
    {
     "name": "stdout",
     "output_type": "stream",
     "text": [
      "3.147532727783009\n"
     ]
    }
   ],
   "source": [
    "from random import uniform\n",
    "from math import pi,sin\n",
    "l = 0.6 #longitud de la aguja\n",
    "a = 1 #de ancho de líneas paralelas\n",
    "n = 1000000 #  de n prueba de inyección con aguja\n",
    "k = 0# Registro del número de veces que la aguja se cruza con la línea paralela\n",
    "\n",
    "y=[] # Obedece la distribución uniforme en [0, a / 2] para generar n números aleatoriamente\n",
    "for i in range(n):\n",
    "    temp = uniform(0,a/2)\n",
    "    y.append(temp)\n",
    "\n",
    "theta=[] # Obedece la distribución uniforme en [0, pi] para generar n números aleatoriamente\n",
    "for i in range(n):\n",
    "    temp = uniform(0,pi)\n",
    "    theta.append(temp)\n",
    "\n",
    "for i in range(1,n):\n",
    "    if y[i] < (l/2)*sin(theta[i]): \n",
    "        k = k + 1;\n",
    "f = k / n\n",
    "Pi = (2*l*n)/(a*k)\n",
    "\n",
    "print(Pi)"
   ]
  },
  {
   "cell_type": "code",
   "execution_count": null,
   "metadata": {},
   "outputs": [],
   "source": []
  }
 ],
 "metadata": {
  "kernelspec": {
   "display_name": "Python 3",
   "language": "python",
   "name": "python3"
  },
  "language_info": {
   "codemirror_mode": {
    "name": "ipython",
    "version": 3
   },
   "file_extension": ".py",
   "mimetype": "text/x-python",
   "name": "python",
   "nbconvert_exporter": "python",
   "pygments_lexer": "ipython3",
   "version": "3.9.2"
  }
 },
 "nbformat": 4,
 "nbformat_minor": 4
}
