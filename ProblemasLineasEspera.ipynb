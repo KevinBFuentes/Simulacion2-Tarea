{
 "cells": [
  {
   "cell_type": "markdown",
   "metadata": {
    "id": "sF5ScfddavFE"
   },
   "source": [
    "Instrucciones\n",
    "Elabore esta tarea en una notebook independiente, registrando sus resultados o las salidas de los programas. En todos los casos en que sea posible, resuelva los problemas mediante simulación y después verifique los resultados con las fórmulas correspondientes.\n",
    "En la biblioteca Un encargado de la biblioteca es el único en el mostrador durante todo su turno de trabajo. Las llegadas al mostrador siguen una distribución de Poisson con una media de 8 por hora. Cada usuario de la biblioteca es atendido de uno en uno, y el tiempo de servicio sigue una distribución exponencial con una media de 5 minutos. a) ¿Cuál es la probabilidad de que se forme cola? b) ¿Cuál es la longitud media de la cola? c) ¿Cuál es el tiempo medio que un cliente pasa en la biblioteca hasta que le han atendido? d) ¿Cuál es el tiempo medio que un cliente pasa en la cola esperando a que le atiendan? e) El encargado de la biblioteca pasa su tiempo en que no hay clientes clasificando artículos de revistas. Si puede clasificar 22 fichas por hora como media cuando trabaja continuamente, ¿cuántas fichas puede ordenar durante su trabajo?"
   ]
  },
  {
   "cell_type": "code",
   "execution_count": null,
   "metadata": {
    "colab": {
     "base_uri": "https://localhost:8080/"
    },
    "id": "e-gIPecPaXIT",
    "outputId": "5868c0ee-89d9-4d5b-cc0a-3d9d99bc78f4"
   },
   "outputs": [
    {
     "name": "stdout",
     "output_type": "stream",
     "text": [
      "a) ¿Cuál es la probabilidad de que se forme cola? p =  0.6703418169990365\n",
      "   ¿Cuál es la probabilidad de que se encuentre vacio? q =  0.32965818300096367\n"
     ]
    }
   ],
   "source": [
    "from random import expovariate\n",
    "import random\n",
    "from statistics import mean\n",
    "from math import inf as Infinity\n",
    "from random import seed\n",
    "from matplotlib.pyplot import *\n",
    "\n",
    "def l_espera(lambd,my,a):\n",
    "\n",
    "  Num_Pkts = 100000                   #Número de paquetes a simular\n",
    "  count = 0                           #Contador de paquetes simulados\n",
    "  t = 0\n",
    "  N = 0                               #Variable de estado: número de paquetes en el sistema\n",
    "\n",
    "  tll = expovariate(lambd)            #Tiempo de llegada\n",
    "  ts = Infinity                       #Tiempo de salida\n",
    "  t_evento_anterior = 0.0             #Tiempo del último evento\n",
    "\n",
    "  tll_Data = []                       #Lista de tiempos de llegada\n",
    "  ts_Data = []                        #Lista de tiempos de salida\n",
    "  r_Data = []                         #Lista de retrasos individuales\n",
    "  tf_Data=[]                          #Lista de tiempos en fila\n",
    "  tc_Data =[]                         #Lista de tiempos en caja\n",
    "\n",
    "  Data = {}\n",
    "\n",
    "  while count < Num_Pkts:\n",
    "      if tll < ts:                           \n",
    "          t = tll\n",
    "        \n",
    "\n",
    "          delta = t - t_evento_anterior\n",
    "          if N in Data: \n",
    "              Data[N] += delta\n",
    "          else:\n",
    "              Data[N] = delta\n",
    "          t_evento_anterior = t\n",
    "        \n",
    "          tll_Data.append(t)\n",
    "          N = N + 1.0\n",
    "          tll = t + expovariate(lambd) \n",
    "          if N == 1:\n",
    "              tc=expovariate(my)\n",
    "              ts = t + tc\n",
    "              tc_Data.append(tc)\n",
    "      else:                                 \n",
    "          t = ts\n",
    "        \n",
    "\n",
    "          delta = t - t_evento_anterior\n",
    "          if N in Data:\n",
    "              Data[N] += delta\n",
    "          else:\n",
    "              Data[N] = delta\n",
    "          t_evento_anterior = t\n",
    "        \n",
    "          ts_Data.append(t)\n",
    "          N = N - 1.0\n",
    "          count = count + 1                         \n",
    "          if N > 0:\n",
    "              tc=expovariate(my)\n",
    "              ts = t + tc\n",
    "              tc_Data.append(tc)\n",
    "          else:\n",
    "              ts = Infinity\n",
    "\n",
    "\n",
    "  for (key, value) in Data.items():\n",
    "      Data[key] = value/t\n",
    "\n",
    "  media = 0.0\n",
    "  media2=0.0\n",
    "  medial=[]\n",
    "  for (key, value) in Data.items():\n",
    "\n",
    "        media = media + key*value\n",
    "        if (key-1)>=1:\n",
    "          media2= media2 + (key-1.0)*value\n",
    "        medial.append(value)                                                                          \n",
    "\n",
    "  if a==1:\n",
    "#Estimación del retraso promedio:\n",
    "    for i in range(Num_Pkts):\n",
    "    \n",
    "        d = ts_Data[i] - tll_Data[i]               \n",
    "        d2= ts_Data[i] - tll_Data[i]-tc_Data[i]    \n",
    "        tf_Data.append(d2)\n",
    "        r_Data.append(d)\n",
    "\n",
    "    print( \"Retraso promedio: W = \", round( mean(r_Data), 4) )\n",
    "    print(\"Tiempo en fila: Wq =\",mean(tf_Data))\n",
    "\n",
    "  elif a==2:\n",
    "    print('E[N]: L = ', media)\n",
    "    print(\"L_q: \",media2)\n",
    "\n",
    "  else:\n",
    "    print(\"a) ¿Cuál es la probabilidad de que se forme cola? p = \", sum(Data.values())-medial[0])\n",
    "    print(\"   ¿Cuál es la probabilidad de que se encuentre vacio? q = \",medial[0])\n",
    "\n",
    "A=l_espera(8,12,3)                          #Ingresamos los parámetros del problema para que pueda resolver el inciso a\n"
   ]
  },
  {
   "cell_type": "markdown",
   "metadata": {
    "id": "GwamoZbDdRdX"
   },
   "source": [
    "Analizando teóricamente\n",
    "\n",
    "Sabemos que nuestros parametros son: λ = 8, μ =12 .\n",
    "\n",
    "\n",
    "a) ¿Cuál es la probabilidad de que se forme cola?\n",
    "\n",
    "\n",
    "$$ρ=\\frac{λ}{μ}=\\frac{8}{12}=\\frac{2}{3}=0.666$$"
   ]
  },
  {
   "cell_type": "markdown",
   "metadata": {
    "id": "m-8KgUwjdWuN"
   },
   "source": [
    "b) ¿Cuál es la longitud media de la cola?  \n",
    "\n",
    "\n",
    "$$L_q=λW_q=λ(W-\\frac{1}{μ})=8(0.25-\\frac{1}{12})=8(0.1698)=1.333$$"
   ]
  },
  {
   "cell_type": "code",
   "execution_count": null,
   "metadata": {
    "colab": {
     "base_uri": "https://localhost:8080/"
    },
    "id": "ac1c9-LSdbxw",
    "outputId": "03e14e8d-8bb7-4d7b-8f9c-c79577441f87"
   },
   "outputs": [
    {
     "name": "stdout",
     "output_type": "stream",
     "text": [
      "b) ¿Cual es la longitud de la cola mediante simulacion?:\n",
      " \n",
      "Retraso promedio: W =  0.2421\n",
      "Tiempo en fila: Wq = 0.15902835645400457\n",
      "E[N]: L =  2.047984598605473\n",
      "L_q:  1.3762797331092238\n"
     ]
    }
   ],
   "source": [
    "print(\"b) ¿Cual es la longitud de la cola mediante simulacion?:\\n \")\n",
    "B_1=l_espera(8,12,1)\n",
    "B_2=l_espera(8,12,2)"
   ]
  },
  {
   "cell_type": "markdown",
   "metadata": {
    "id": "TnmFKxcidjCK"
   },
   "source": [
    "c) ¿Cuál es el tiempo medio que un cliente pasa en la biblioteca hasta que le han atendido?\n",
    "\n",
    "\n",
    "$$W=W_q+\\frac{1}{μ}=0.166+\\frac{1}{12}=0.25$$"
   ]
  },
  {
   "cell_type": "code",
   "execution_count": null,
   "metadata": {
    "colab": {
     "base_uri": "https://localhost:8080/"
    },
    "id": "AW1-laLDdkML",
    "outputId": "94bb5614-41d4-4ad2-a88c-cd7b7fce157f"
   },
   "outputs": [
    {
     "name": "stdout",
     "output_type": "stream",
     "text": [
      "¿Cual es el tiempo medio que un cliente pasa en la biblioteca hasta que le han atendido mediante simulacion?:\n",
      " \n",
      "Retraso promedio: W =  0.2498\n",
      "Tiempo en fila: Wq = 0.166201301194399\n"
     ]
    }
   ],
   "source": [
    "print(\"¿Cual es el tiempo medio que un cliente pasa en la biblioteca hasta que le han atendido mediante simulacion?:\\n \")\n",
    "C=l_espera(8,12,1)"
   ]
  },
  {
   "cell_type": "markdown",
   "metadata": {
    "id": "Uy5gQbzwdo3T"
   },
   "source": [
    "d) ¿Cuál es el tiempo medio que un cliente pasa en la cola esperando a que le atiendan?\n",
    "\n",
    "$$W_q=W-\\frac{1}{μ}=0.25-\\frac{1}{12}=0.1666$$"
   ]
  },
  {
   "cell_type": "code",
   "execution_count": null,
   "metadata": {
    "colab": {
     "base_uri": "https://localhost:8080/"
    },
    "id": "swqNJoktds3W",
    "outputId": "82e70f67-87aa-491b-f646-0d7423f42288"
   },
   "outputs": [
    {
     "name": "stdout",
     "output_type": "stream",
     "text": [
      "¿Cual es el tiempo medio que un cliente pasa en la cola esperando a que le atiendan mediante simulacion?:\n",
      " \n",
      "Retraso promedio: W =  0.247\n",
      "Tiempo en fila: Wq = 0.16404842770394612\n"
     ]
    }
   ],
   "source": [
    "print(\"¿Cual es el tiempo medio que un cliente pasa en la cola esperando a que le atiendan mediante simulacion?:\\n \")\n",
    "D=l_espera(8,12,1)"
   ]
  },
  {
   "cell_type": "markdown",
   "metadata": {
    "id": "V1zRpP6pd2wN"
   },
   "source": [
    "e) El encargado de la biblioteca pasa su tiempo en que no hay clientes clasificando artículos\n",
    "de revistas. Si puede clasificar 22 fichas por hora como media cuando trabaja continuamente,\n",
    "¿cuántas fichas puede ordenar durante su trabajo?\n",
    "\n",
    "$$E(fichasporhora)=0.33(22)=7.26$$"
   ]
  },
  {
   "cell_type": "markdown",
   "metadata": {
    "id": "tAlhTDxvd4OA"
   },
   "source": [
    "2. Lavado de autos\n",
    "Un pequeño autoservicio de lavado que solo tienen capacidad para atender de uno en uno a\n",
    "los autos que llegan, tiene un aparcamiento para 10 coches, incluyendo el que está siendo\n",
    "lavado. La empresa ha estimado que los coches llegan siguiendo una distribución de Poisson\n",
    "con una media de 20 coches/hora, el tiempo de servicio sigue una distribución exponencial\n",
    "de 12 minutos. La empresa abre durante 10 horas al día.\n",
    "¿Cuál es la media de coches perdidos cada día debido a las limitaciones de espacio?"
   ]
  },
  {
   "cell_type": "code",
   "execution_count": null,
   "metadata": {
    "colab": {
     "base_uri": "https://localhost:8080/"
    },
    "id": "Hp3cs9fsd9CW",
    "outputId": "2244b733-29aa-463f-da21-d53a878ee381"
   },
   "outputs": [
    {
     "name": "stdout",
     "output_type": "stream",
     "text": [
      "Media de coches perdidos cada día debido a las limitaciones del espacio=  141.0886\n"
     ]
    }
   ],
   "source": [
    "def l_espera_2(lambd,my,max,total):\n",
    "\n",
    "  T = total                           #Tiempo máximo \n",
    "  count = 0                           #Contador simulador\n",
    "  t = 0\n",
    "  N = 0                               #Variable de estado\n",
    "  CNA=0                               #Clientes no atendidos\n",
    "\n",
    "  tll =- ((1/lambd)*np.log(random.random()))       #Tiempo de llegada\n",
    "  ts = Infinity                                    #Tiempo de salida\n",
    "  t_evento_anterior = 0.0                          #Tiempo del último evento\n",
    "\n",
    "  while t < T:\n",
    "      if tll < ts:                                 #Evento de llegada\n",
    "          t = tll\n",
    "        \n",
    "#tiempo\n",
    "          delta = t - t_evento_anterior\n",
    "          t_evento_anterior = t\n",
    "        \n",
    "          if N>=max:                               #Su funcion es separar a los que no alcanzan a ser atendidos \n",
    "            CNA=CNA+1\n",
    " \n",
    "          else:\n",
    "            N = N + 1.0\n",
    "\n",
    "          tll = t - ((1/lambd)*np.log(random.random())) \n",
    "\n",
    "          if N == 1:\n",
    "              ts = t + expovariate(my)\n",
    "      else:                                         #Evento de salida\n",
    "          t = ts\n",
    "        \n",
    "#Tiempo\n",
    "          delta = t - t_evento_anterior\n",
    "        \n",
    "          N = N - 1.0\n",
    "          count = count + 1                        #Paquetes simulados\n",
    "          if N > 0:\n",
    "              ts = t + expovariate(my)\n",
    "          else:\n",
    "              ts = Infinity\n",
    " \n",
    "  return CNA\n",
    "\n",
    "media = []\n",
    "\n",
    "for i in range(10000):\n",
    "  media.append(l_espera_2(20,5,10,10))\n",
    "\n",
    "print(\"Media de coches perdidos cada día debido a las limitaciones del espacio= \",mean(media))"
   ]
  },
  {
   "cell_type": "markdown",
   "metadata": {
    "id": "4wWz8AqweGm6"
   },
   "source": [
    "3. John Macko\n",
    "John Macko es alumno en la U de Ozark. Hace trabajos extraños para aumentar sus ingresos.\n",
    "Las peticiones de trabajo llegan en promedio cada 5 días, pero el tiempo entre ellas es\n",
    "exponencial. El tiempo para terminar un trabajo también es exponencial, con una media de 4\n",
    "días.\n",
    "a) ¿Cuál es la probabilidad de que le falte trabajo a John?\n",
    "b) Si John cobra unos $50 por cada trabajo, ¿cuál es su ingreso mensual promedio?\n",
    "c) Si al final del semestre John decide subcontratar los trabajos pendientes a $40 cada uno,\n",
    "¿cuánto debe esperar pagar en promedio?"
   ]
  },
  {
   "cell_type": "code",
   "execution_count": null,
   "metadata": {
    "colab": {
     "base_uri": "https://localhost:8080/"
    },
    "id": "IcrIxkOneH3m",
    "outputId": "3dcecb97-8c97-45a8-9b49-d2f91065e00a"
   },
   "outputs": [
    {
     "name": "stdout",
     "output_type": "stream",
     "text": [
      "¿Cuál es la probabilidad de que se forme cola? p =  0.7897554902509731\n",
      "a) ¿Cuál es la probabilidad de que le falte trabajo a Jhon? q =  0.2102445097490271\n"
     ]
    }
   ],
   "source": [
    "def l_espera_3(lambd,my,a,b,c,d):\n",
    "\n",
    "  T = b\n",
    "  count = 0                           #Contador de paquetes simulados\n",
    "  t = 0\n",
    "  N = 0                               #Variable de estado\n",
    "\n",
    "  tll = expovariate(lambd)            #Tiempo de llegada\n",
    "  ts = Infinity                       #Tiempo de salida\n",
    "  t_evento_anterior = 0.0             #Tiempo del último evento\n",
    "\n",
    "  tll_Data = []                       #Lista de tiempos de llegada\n",
    "  ts_Data = []                        #Lista de tiempos de salida\n",
    "  r_Data = []                         #Lista de retrasos individuales\n",
    "  tc_Data =[]                         #Lista de tiempos en caja\n",
    "  tf_Data=[]                          #Lista de tiempos en fila\n",
    "\n",
    "  Data = {}\n",
    "\n",
    "  while t < T:\n",
    "      if tll < ts:                           \n",
    "          t = tll\n",
    "        \n",
    "#Longitud entre intervalos (tiempo)\n",
    "          delta = t - t_evento_anterior\n",
    "          if N in Data: \n",
    "              Data[N] += delta\n",
    "          else:\n",
    "              Data[N] = delta\n",
    "          t_evento_anterior = t\n",
    "        \n",
    "          tll_Data.append(t)\n",
    "          N = N + 1.0\n",
    "          tll = t + expovariate(lambd) \n",
    "          if N == 1:\n",
    "              tc=expovariate(my)\n",
    "              ts = t + tc\n",
    "              tc_Data.append(tc)\n",
    "      else:                                         \n",
    "          t = ts\n",
    "        \n",
    "#Longitud entre intervalos (tiempo)\n",
    "          delta = t - t_evento_anterior\n",
    "          if N in Data:\n",
    "              Data[N] += delta\n",
    "          else:\n",
    "              Data[N] = delta\n",
    "          t_evento_anterior = t\n",
    "        \n",
    "          ts_Data.append(t)\n",
    "          N = N - 1.0\n",
    "          count = count + 1                         \n",
    "          if N > 0:\n",
    "              tc=expovariate(my)\n",
    "              ts = t + tc\n",
    "              tc_Data.append(tc)\n",
    "          else:\n",
    "              ts = Infinity\n",
    "\n",
    "\n",
    "\n",
    "\n",
    "#Estimación de la probabilidad de P(N=k):\n",
    "  for (key, value) in Data.items():\n",
    "      Data[key] = value/t\n",
    "\n",
    "#Se verifica que la probabilidad total es 1.0\n",
    "\n",
    "  media = 0.0\n",
    "  media2=0.0\n",
    "  medial=[]\n",
    "  for (key, value) in Data.items():\n",
    "                                                                                \n",
    "        media = media + key*value\n",
    "        if (key-1)>=1:                                                          \n",
    "          media2= media2 + (key-1.0)*value\n",
    "        medial.append(value)\n",
    "                                                                                \n",
    "  \n",
    "\n",
    "  if a==1:\n",
    "\n",
    "    for i in range(len(ts_Data)):\n",
    "        d = ts_Data[i] - tll_Data[i]              \n",
    "        d2= ts_Data[i] - tll_Data[i]-tc_Data[i]   \n",
    "        tf_Data.append(d2)\n",
    "        r_Data.append(d)\n",
    "    print( \"Retraso promedio: W = \", round( mean(r_Data), 4) )\n",
    "    print(\"Tiempo en fila:W_q=\",mean(tf_Data))\n",
    "\n",
    "  elif a==2:\n",
    "    print('E[N]: L = ', media)\n",
    "    print(\"L_q =\",media2)\n",
    "\n",
    "  elif a==3:\n",
    "    print('¿Cuál es la probabilidad de que se forme cola? p = ', sum(Data.values())-medial[0])\n",
    "    print(\"a) ¿Cuál es la probabilidad de que le falte trabajo a Jhon? q = \",medial[0])\n",
    "\n",
    "  elif a==4:\n",
    "    return count*c\n",
    "\n",
    "  else:\n",
    "    return N*d\n",
    "A=l_espera_3(0.2,0.25,3,100,50,0)"
   ]
  },
  {
   "cell_type": "markdown",
   "metadata": {
    "id": "e0w7VXCDeTFd"
   },
   "source": [
    "a) ¿Cuál es la probabilidad de que le falte trabajo a John?\n",
    "\n",
    "$$p_0=1-p=1-\\frac{λ}{μ}=1-\\frac{0.2}{0.25}=0.2$$"
   ]
  },
  {
   "cell_type": "markdown",
   "metadata": {
    "id": "N8AmAAT6eUEZ"
   },
   "source": [
    "b) Si John cobra unos $50 por cada trabajo, ¿cuál es su ingreso mensual promedio?"
   ]
  },
  {
   "cell_type": "code",
   "execution_count": null,
   "metadata": {
    "colab": {
     "base_uri": "https://localhost:8080/"
    },
    "id": "aXcmgraYeYXR",
    "outputId": "844ff318-11ec-4f81-d8ad-7cd7384effe7"
   },
   "outputs": [
    {
     "name": "stdout",
     "output_type": "stream",
     "text": [
      "Su ingreso mensual promedio es: $ 228.855\n"
     ]
    }
   ],
   "source": [
    "media=[]\n",
    "for i in range(10000):\n",
    "  media.append(l_espera_3(0.2,0.25,4,30,50,0))\n",
    "print(\"Su ingreso mensual promedio es: $\",mean(media))"
   ]
  },
  {
   "cell_type": "markdown",
   "metadata": {
    "id": "7CqHDVvKecPc"
   },
   "source": [
    "c) Si al final del semestre John decide subcontratar los trabajos pendientes a $40 cada uno,\n",
    "¿cuánto debe esperar pagar en promedio?"
   ]
  },
  {
   "cell_type": "code",
   "execution_count": null,
   "metadata": {
    "colab": {
     "base_uri": "https://localhost:8080/"
    },
    "id": "Fli9OZWZefv9",
    "outputId": "20cf6379-c9dc-4e7e-be31-8b98dad533e1"
   },
   "outputs": [
    {
     "name": "stdout",
     "output_type": "stream",
     "text": [
      "El pago esperado promedio es: $ 138.616\n"
     ]
    }
   ],
   "source": [
    "media=[]\n",
    "for i in range(10000):\n",
    "  media.append(l_espera_3(0.2,0.25,5,182.5,50,40))\n",
    "print(\"El pago esperado promedio es: $\",mean(media))"
   ]
  }
 ],
 "metadata": {
  "colab": {
   "name": "Problemas LE Kevin.ipynb",
   "provenance": []
  },
  "kernelspec": {
   "display_name": "Python 3",
   "language": "python",
   "name": "python3"
  },
  "language_info": {
   "codemirror_mode": {
    "name": "ipython",
    "version": 3
   },
   "file_extension": ".py",
   "mimetype": "text/x-python",
   "name": "python",
   "nbconvert_exporter": "python",
   "pygments_lexer": "ipython3",
   "version": "3.9.2"
  }
 },
 "nbformat": 4,
 "nbformat_minor": 4
}
