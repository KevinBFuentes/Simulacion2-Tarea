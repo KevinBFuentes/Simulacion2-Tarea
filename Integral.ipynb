{
 "cells": [
  {
   "cell_type": "code",
   "execution_count": 4,
   "metadata": {},
   "outputs": [
    {
     "name": "stdout",
     "output_type": "stream",
     "text": [
      "La aproximación por simulacion es igual a:  0.6294423640098965\n"
     ]
    }
   ],
   "source": [
    "from random import random\n",
    "from math import atan, sqrt\n",
    "from statistics import mean, variance\n",
    "n=100000\n",
    "suma=0\n",
    "l=[]\n",
    "def fun(x):\n",
    "    return sqrt(atan(x))\n",
    "for i in range(n):\n",
    "    x=random()\n",
    "    l.append(fun(x))\n",
    "    \n",
    "integ=mean(l)\n",
    "print('La aproximación por simulacion es igual a: ', integ)"
   ]
  }
 ],
 "metadata": {
  "kernelspec": {
   "display_name": "Python 3",
   "language": "python",
   "name": "python3"
  },
  "language_info": {
   "codemirror_mode": {
    "name": "ipython",
    "version": 3
   },
   "file_extension": ".py",
   "mimetype": "text/x-python",
   "name": "python",
   "nbconvert_exporter": "python",
   "pygments_lexer": "ipython3",
   "version": "3.9.2"
  }
 },
 "nbformat": 4,
 "nbformat_minor": 4
}
