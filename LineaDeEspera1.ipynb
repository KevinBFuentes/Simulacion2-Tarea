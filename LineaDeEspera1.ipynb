{
 "cells": [
  {
   "cell_type": "code",
   "execution_count": 1,
   "metadata": {},
   "outputs": [
    {
     "name": "stdout",
     "output_type": "stream",
     "text": [
      "     0.000 1\n",
      "                            0.081 0\n",
      "     2.514 1\n",
      "                            2.526 0\n",
      "     2.911 1\n",
      "     3.052 2\n",
      "                            3.547 1\n",
      "     3.757 2\n",
      "     3.933 3\n",
      "     4.332 4\n",
      "     4.477 5\n",
      "                            4.852 4\n",
      "                            4.933 3\n",
      "                            5.774 2\n",
      "     5.783 3\n",
      "     6.098 4\n",
      "                            6.307 3\n",
      "                            6.430 2\n",
      "                            6.519 1\n",
      "                            6.918 0\n",
      "     8.063 1\n",
      "                            9.598 0\n"
     ]
    }
   ],
   "source": [
    "from math import log\n",
    "from random import random\n",
    "\n",
    "T=10 #Tiempo de simulación\n",
    "l_l=1\n",
    "l_s=2\n",
    "t=0 #Tiempo cero, iniciamos la simulación\n",
    "infi=1000000000\n",
    "ts=infi\n",
    "tl=0\n",
    "l=0\n",
    "while min(tl,ts)<T:\n",
    "    t=min(tl,ts)\n",
    "    if t==tl:\n",
    "        l=l+1\n",
    "        print('%10.3f'%tl,l)\n",
    "        tl=t-(1./l_l)*log(random())\n",
    "        if l==1:\n",
    "            ts=t-(1./l_s)*log(random())\n",
    "\n",
    "    else:\n",
    "        l=l-1\n",
    "        print('                      ','%10.3f'%ts,l)\n",
    "        if l>0:\n",
    "            ts=t-(1./l_s)*log(random())\n",
    "        else:\n",
    "            ts=infi\n"
   ]
  }
 ],
 "metadata": {
  "kernelspec": {
   "display_name": "Python 3",
   "language": "python",
   "name": "python3"
  },
  "language_info": {
   "codemirror_mode": {
    "name": "ipython",
    "version": 3
   },
   "file_extension": ".py",
   "mimetype": "text/x-python",
   "name": "python",
   "nbconvert_exporter": "python",
   "pygments_lexer": "ipython3",
   "version": "3.9.2"
  }
 },
 "nbformat": 4,
 "nbformat_minor": 4
}
