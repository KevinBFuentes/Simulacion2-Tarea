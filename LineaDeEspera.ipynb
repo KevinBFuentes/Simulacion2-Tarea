{
 "cells": [
  {
   "cell_type": "code",
   "execution_count": 3,
   "metadata": {},
   "outputs": [
    {
     "name": "stdout",
     "output_type": "stream",
     "text": [
      "     0.000 1\n",
      "                            0.337 0\n",
      "     0.843 1\n",
      "     0.913 2\n",
      "     1.262 3\n",
      "                            1.328 2\n",
      "                            1.621 1\n",
      "     2.032 2\n",
      "     2.131 3\n",
      "     2.268 4\n",
      "                            2.298 3\n",
      "                            2.572 2\n",
      "                            2.722 1\n",
      "     2.919 2\n",
      "                            3.002 1\n",
      "     3.065 2\n",
      "     4.549 3\n",
      "                            4.972 2\n",
      "                            5.113 1\n",
      "                            6.119 0\n",
      "     6.259 1\n",
      "                            6.264 0\n",
      "     6.771 1\n",
      "                            6.774 0\n",
      "     8.201 1\n",
      "     8.326 2\n",
      "                            8.393 1\n",
      "                            8.529 0\n",
      "     8.548 1\n"
     ]
    },
    {
     "data": {
      "image/png": "[encoded data removed]",
      "text/plain": [
       "<Figure size 432x288 with 1 Axes>"
      ]
     },
     "metadata": {
      "needs_background": "light"
     },
     "output_type": "display_data"
    }
   ],
   "source": [
    "from math import log\n",
    "from random import random\n",
    "import matplotlib.pyplot as plt\n",
    "\n",
    "T=10 #Tiempo de simulación\n",
    "l_l=1 #Parametro del proceso de Poisson de las llegadas\n",
    "l_s=2 #Parametro del proceso de Poisson de los tiempos de atención\n",
    "t=0 #Tiempo cero, iniciamos la simulación\n",
    "infi=1000000000\n",
    "ts=infi #Tiempo de salida en un inicio\n",
    "tl=0 #tiempo de llegada\n",
    "l=0 #lista de personas en el servidor\n",
    "lt=[]\n",
    "ll=[]\n",
    "\n",
    "#Empieza la simulación y se comparan los tiempos de llegada y de salida para analizar qué se va a hacer\n",
    "while min(tl,ts)<T:\n",
    "    lt.append(t)\n",
    "    ll.append(l)\n",
    "    t=min(tl,ts)\n",
    "    lt.append(t)\n",
    "    ll.append(l)\n",
    "    \n",
    "    #Si el evento es una llegada\n",
    "    if t==tl:\n",
    "        l=l+1\n",
    "        print('%10.3f'%tl,l)\n",
    "        tl=t-(1/l_l)*log(random())\n",
    "        if l==1:\n",
    "            ts=t-(1/l_s)*log(random())\n",
    "            \n",
    "    #Si el evento es una salida       \n",
    "    else:\n",
    "        l=l-1\n",
    "        print('                      ','%10.3f'%ts,l)\n",
    "        if l>0:\n",
    "            ts=t-(1/l_s)*log(random())\n",
    "        else:\n",
    "            ts=infi\n",
    "            \n",
    "plt.plot(lt,ll,color='black')\n",
    "plt.axis([0,11,0,6])\n",
    "plt.show()\n",
    "\n",
    "\n",
    "#En la parte de abajo se observan del lado izquierdo las llegadas(tiempo de ocurrencia y no. pers. en el serv)\n",
    "#y del derecho las salidas (tiempo de ocurrencia y no. pers. en el serv)"
   ]
  }
 ],
 "metadata": {
  "kernelspec": {
   "display_name": "Python 3",
   "language": "python",
   "name": "python3"
  },
  "language_info": {
   "codemirror_mode": {
    "name": "ipython",
    "version": 3
   },
   "file_extension": ".py",
   "mimetype": "text/x-python",
   "name": "python",
   "nbconvert_exporter": "python",
   "pygments_lexer": "ipython3",
   "version": "3.9.2"
  }
 },
 "nbformat": 4,
 "nbformat_minor": 4
}
